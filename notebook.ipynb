{
 "cells": [
  {
   "cell_type": "code",
   "execution_count": 6,
   "metadata": {},
   "outputs": [],
   "source": [
    "from Database import DatabaseInputs"
   ]
  },
  {
   "cell_type": "code",
   "execution_count": 7,
   "metadata": {},
   "outputs": [],
   "source": [
    "db_input = DatabaseInputs()\n",
    "input = db_input.get_input()"
   ]
  },
  {
   "cell_type": "code",
   "execution_count": 8,
   "metadata": {},
   "outputs": [
    {
     "data": {
      "text/plain": [
       "{'RISK': '0.5',\n",
       " 'CURRENCY': 'GBP',\n",
       " 'LOGIN': '51185390',\n",
       " 'PASSWORD': 'rpEqG5ny',\n",
       " 'SERVER': 'ICMarketsSC-Demo',\n",
       " 'FOLDER_PATH': 'C:/Users/pjesus/Documents/TradingView'}"
      ]
     },
     "execution_count": 8,
     "metadata": {},
     "output_type": "execute_result"
    }
   ],
   "source": [
    "input"
   ]
  },
  {
   "cell_type": "code",
   "execution_count": 4,
   "metadata": {},
   "outputs": [
    {
     "data": {
      "text/plain": [
       "'C:\\\\Users\\\\pjesus\\\\Documents\\\\TradingView'"
      ]
     },
     "execution_count": 4,
     "metadata": {},
     "output_type": "execute_result"
    }
   ],
   "source": [
    "input['FOLDER_PATH']"
   ]
  },
  {
   "cell_type": "code",
   "execution_count": 11,
   "metadata": {},
   "outputs": [],
   "source": [
    "from tinydb import TinyDB\n",
    "\n",
    "# create a TinyDB object and open the database file\n",
    "db = TinyDB('db/my_database.json')\n",
    "\n",
    "# create two tables in the database\n",
    "inputs = db.table('INPUT')\n",
    "\n",
    "# add some data to table1\n",
    "inputs.insert({\n",
    "    \"USE_CAPITAL_LIQUID_MT5\" : \"SIM\",\n",
    "    \"FIXED_CAPITAL\": \"300\",\n",
    "    \"RISK\": \"0.5\", \n",
    "    \"CURRENCY\": \"GBP\", \n",
    "    \"LOGIN\": \"51185390\", \n",
    "    \"PASSWORD\": \"rpEqG5ny\", \n",
    "    \"SERVER\": \"ICMarketsSC-Demo\", \n",
    "    \"FOLDER_PATH\": \"C:/Users/pjesus/Documents/TradingView\"\n",
    "})\n",
    "\n",
    "# close the database connection\n",
    "db.close()\n"
   ]
  },
  {
   "cell_type": "code",
   "execution_count": 7,
   "metadata": {},
   "outputs": [
    {
     "name": "stdout",
     "output_type": "stream",
     "text": [
      "0.5\n"
     ]
    }
   ],
   "source": [
    "from tinydb import TinyDB\n",
    "\n",
    "# Open the database\n",
    "db = TinyDB('my_database.json')\n",
    "\n",
    "# Get a reference to the table\n",
    "table = db.table('INPUT')\n",
    "\n",
    "# Select all data from the table\n",
    "results = table.all()\n",
    "\n",
    "# Print the results\n",
    "print(results[0])\n",
    "\n",
    "# Close the database\n",
    "db.close()\n"
   ]
  },
  {
   "cell_type": "code",
   "execution_count": null,
   "metadata": {},
   "outputs": [],
   "source": [
    "# Get a reference to the table\n",
    "table = db.table('mytable')\n",
    "\n",
    "# Select all data from the table\n",
    "results = table.all()\n",
    "\n",
    "# Print the results\n",
    "print(results)"
   ]
  },
  {
   "cell_type": "code",
   "execution_count": 2,
   "metadata": {},
   "outputs": [
    {
     "name": "stdout",
     "output_type": "stream",
     "text": [
      "[{'risk': '0.5', 'currency': 'GBP', 'login': '51185390', 'password': 'rpEqG5ny', 'server': 'ICMarketsSC-Demo', 'folder_path': 'C:\\\\Users\\\\pjesus\\\\Documents\\\\TradingView'}]\n"
     ]
    }
   ],
   "source": [
    "from tinydb import TinyDB, Query\n",
    "\n",
    "# Open the database\n",
    "db = TinyDB('my_database.json')\n",
    "\n",
    "# Get a reference to the 'users' table\n",
    "inputs_table = db.table('inputs')\n",
    "\n",
    "# Define a query to find all users with the name 'Alice'\n",
    "User = Query()\n",
    "results = inputs_table.search(User.login == '51185390')\n",
    "\n",
    "# Print the results\n",
    "print(results)\n",
    "\n",
    "# Close the database\n",
    "db.close()\n"
   ]
  },
  {
   "cell_type": "code",
   "execution_count": 24,
   "metadata": {},
   "outputs": [],
   "source": [
    "a = 0.00223"
   ]
  },
  {
   "cell_type": "code",
   "execution_count": 25,
   "metadata": {},
   "outputs": [
    {
     "data": {
      "text/plain": [
       "0"
      ]
     },
     "execution_count": 25,
     "metadata": {},
     "output_type": "execute_result"
    }
   ],
   "source": [
    "int(round(a*100,0))"
   ]
  },
  {
   "cell_type": "code",
   "execution_count": 6,
   "metadata": {},
   "outputs": [],
   "source": [
    "b = float(0.00)"
   ]
  },
  {
   "cell_type": "code",
   "execution_count": 7,
   "metadata": {},
   "outputs": [
    {
     "data": {
      "text/plain": [
       "0.0"
      ]
     },
     "execution_count": 7,
     "metadata": {},
     "output_type": "execute_result"
    }
   ],
   "source": [
    "b"
   ]
  },
  {
   "cell_type": "code",
   "execution_count": 2,
   "metadata": {},
   "outputs": [
    {
     "data": {
      "text/plain": [
       "0.00123"
      ]
     },
     "execution_count": 2,
     "metadata": {},
     "output_type": "execute_result"
    }
   ],
   "source": [
    "a"
   ]
  },
  {
   "cell_type": "code",
   "execution_count": 5,
   "metadata": {},
   "outputs": [
    {
     "data": {
      "text/plain": [
       "True"
      ]
     },
     "execution_count": 5,
     "metadata": {},
     "output_type": "execute_result"
    }
   ],
   "source": [
    "a > 0.00"
   ]
  },
  {
   "cell_type": "code",
   "execution_count": null,
   "metadata": {},
   "outputs": [],
   "source": []
  },
  {
   "cell_type": "code",
   "execution_count": 13,
   "metadata": {},
   "outputs": [
    {
     "name": "stdout",
     "output_type": "stream",
     "text": [
      "2023-05-06 15:36:53\n"
     ]
    }
   ],
   "source": [
    "import datetime\n",
    "\n",
    "# Get the current timestamp as a string\n",
    "current_timestamp_str = datetime.datetime.now().strftime(\"%Y-%m-%d %H:%M:%S\")\n",
    "\n",
    "print(current_timestamp_str)\n"
   ]
  },
  {
   "cell_type": "code",
   "execution_count": 33,
   "metadata": {},
   "outputs": [],
   "source": [
    "'''https://www.mql5.com/en/docs/python_metatrader5'''\n",
    "\n",
    "import os\n",
    "import math\n",
    "import pandas as pd\n",
    "import MetaTrader5 as mt5\n",
    "from datetime import datetime\n",
    "\n",
    "from Order import Order\n"
   ]
  },
  {
   "cell_type": "code",
   "execution_count": 5,
   "metadata": {},
   "outputs": [],
   "source": [
    "\n",
    "risk = 0.5\n",
    "currency = 'gbp'\n",
    "currency = currency.upper()\n",
    "deviation = 10\n",
    "login = 51185390\n",
    "password = 'rpEqG5ny'\n",
    "server = 'ICMarketsSC-Demo'\n",
    "folder_path = r\"C:\\Users\\pjesus\\Documents\\TradingView\"\n"
   ]
  },
  {
   "cell_type": "code",
   "execution_count": 38,
   "metadata": {},
   "outputs": [
    {
     "data": {
      "text/plain": [
       "[['EURUSD', 'Buy', 'Limit', 1.09386, 1.0986, 1.0932],\n",
       " ['USDCAD', 'Buy', 'Limit', 1.3349, 1.34724, 1.334],\n",
       " ['USDJPY', 'Buy', 'Limit', 133.787, 134.553, 133.666],\n",
       " ['EURUSD', 'Buy', 'Limit', 1.09223, 1.0986, 1.09157],\n",
       " ['EURUSD', 'Buy', 'Limit', 1.09137, 1.0986, 1.09096],\n",
       " ['USDCAD', 'Buy', 'Limit', 1.3321, 1.34737, 1.33124],\n",
       " ['USDJPY', 'Buy', 'Limit', 134.047, 134.551, 133.963],\n",
       " ['USDJPY', 'Buy', 'Limit', 134.288, 134.792, 134.193]]"
      ]
     },
     "execution_count": 38,
     "metadata": {},
     "output_type": "execute_result"
    }
   ],
   "source": [
    "my_orders_list"
   ]
  },
  {
   "cell_type": "code",
   "execution_count": 41,
   "metadata": {},
   "outputs": [],
   "source": [
    "my_list = [[3, 'apple'], [1, 'banana'], [2, 'cherry']]\n",
    "a = my_list.sort(key=lambda x: x[0])\n",
    "a"
   ]
  },
  {
   "cell_type": "code",
   "execution_count": 43,
   "metadata": {},
   "outputs": [
    {
     "name": "stdout",
     "output_type": "stream",
     "text": [
      "None\n"
     ]
    }
   ],
   "source": [
    "print(a)"
   ]
  },
  {
   "cell_type": "code",
   "execution_count": 6,
   "metadata": {},
   "outputs": [],
   "source": [
    "# pega o arquivo exportado mais atual\n",
    "\n",
    "folder_path = r\"C:\\Users\\pjesus\\Documents\\TradingView\"\n",
    "\n",
    "file_list = []\n",
    "\n",
    "for file_name in os.listdir(folder_path):\n",
    "    if 'paper-trading-orders' in file_name:\n",
    "        full_path = os.path.join(folder_path, file_name)\n",
    "        if os.path.isfile(full_path):\n",
    "            mod_time = os.stat(full_path).st_mtime\n",
    "            file_list.append((full_path, file_name, mod_time))\n",
    "\n",
    "try:\n",
    "    sorted_files = sorted(file_list, key=lambda x: x[2], reverse=True)\n",
    "    sorted_files = [[file[0], file[1], datetime.fromtimestamp(file[2]).strftime('%Y-%m-%d %H:%M:%S')] for file in sorted_files]\n",
    "    last_file = sorted_files[0][0]\n",
    "\n",
    "\n",
    "except Exception as exp:\n",
    "    new_log(f'{exp}')\n",
    "\n",
    "\n",
    "# le o arquivo exportado para criar as ordens\n",
    "\n",
    "orders_list = []\n",
    "\n",
    "\n",
    "\n",
    "# Read CSV file and use first row as column headers\n",
    "orders_df = pd.read_csv(last_file, header=0)\n",
    "\n",
    "# Loop through each row of the DataFrame\n",
    "for index, row in orders_df.iterrows():\n",
    "    # Access data from each column using the column name as a key\n",
    "\n",
    "    try: # file of all orders\n",
    "        if row['Type'] == 'Limit' and row['Status'] == 'Working':\n",
    "\n",
    "            orders_list.append([\n",
    "                row['Symbol'], \n",
    "                row['Side'], \n",
    "                row['Type'],\n",
    "                row['Price'],\n",
    "                row['Take Profit'],\n",
    "                row['Stop Loss']\n",
    "            ])\n",
    "    except:\n",
    "        try: # file of working orders\n",
    "            if row['Type'] == 'Limit':\n",
    "\n",
    "                orders_list.append([\n",
    "                    row['Symbol'], \n",
    "                    row['Side'], \n",
    "                    row['Type'],\n",
    "                    row['Price'],\n",
    "                    row['Take Profit'],\n",
    "                    row['Stop Loss']\n",
    "                ])\n",
    "        except Exception as excp:\n",
    "            print(str(excp))\n",
    "\n",
    "\n",
    "# remove order duplicadas no arquivo\n",
    "\n",
    "my_set = set(tuple(x) for x in orders_list)\n",
    "my_orders_list = [list(x) for x in my_set]\n",
    "\n",
    "orders_list = []\n",
    "\n",
    "\n",
    "# cria os objetos de ordens\n",
    "for symbol, side, type, entry, take_profit, stop_loss in my_orders_list:\n",
    "\n",
    "    symbol = symbol.split(\":\")[1]\n",
    "    symbol_ref = currency + symbol[3:]\n",
    "\n",
    "    if currency == symbol[3:]:\n",
    "        symbol_ref = symbol\n",
    "\n",
    "    try:\n",
    "\n",
    "        order = Order(\n",
    "            symbol      = symbol, \n",
    "            symbol_ref  = symbol_ref,\n",
    "            side        = side, \n",
    "            type        = type,\n",
    "            entry       = float(entry), \n",
    "            take_profit = float(take_profit), \n",
    "            stop_loss   = float(stop_loss)        \n",
    "        )\n",
    "\n",
    "        orders_list.append(order)\n",
    "\n",
    "    except Exception as exp:\n",
    "\n",
    "        print(symbol, side, type, entry, take_profit, stop_loss)\n",
    "        print(str(exp))\n"
   ]
  },
  {
   "cell_type": "code",
   "execution_count": 7,
   "metadata": {},
   "outputs": [
    {
     "name": "stdout",
     "output_type": "stream",
     "text": [
      "USDJPY Buy 134.047 134.551 133.963 GBPJPY\n",
      "EURUSD Buy 1.09223 1.0986 1.09157 GBPUSD\n",
      "EURUSD Buy 1.09137 1.0986 1.09096 GBPUSD\n",
      "USDCAD Buy 1.3349 1.34724 1.334 GBPCAD\n",
      "USDCAD Buy 1.3321 1.34737 1.33124 GBPCAD\n",
      "USDJPY Buy 134.288 134.792 134.193 GBPJPY\n",
      "USDJPY Buy 133.787 134.553 133.666 GBPJPY\n",
      "EURUSD Buy 1.09386 1.0986 1.0932 GBPUSD\n"
     ]
    }
   ],
   "source": [
    "for order in orders_list:\n",
    "\n",
    "    print(order.symbol, order.side, order.entry, order.take_profit, order.stop_loss, order.symbol_ref)"
   ]
  },
  {
   "cell_type": "code",
   "execution_count": 5,
   "metadata": {},
   "outputs": [],
   "source": [
    "# remove as ordens existentes no metatrader\n",
    "\n",
    "# establish connection to the MetaTrader 5 terminal\n",
    "if not mt5.initialize():\n",
    "    new_log(f\"initialize() failed, error code = {mt5.last_error()}\")\n",
    "\n",
    "\n",
    "\n",
    "authorized = mt5.login(login,password,server)\n",
    "\n",
    "if authorized:\n",
    "    # display trading account data 'as is'\n",
    "    new_log(mt5.account_info())\n",
    "else:\n",
    "    new_log(f\"failed to connect at account #{login}, error code: {mt5.last_error()}\")\n",
    "\n",
    "# verifica se já existe a ordem posicionada \n",
    "orders=mt5.orders_get()\n",
    "\n",
    "order_to_remove = []\n",
    "\n",
    "# pega as ordens que ja estão posicionadas e remove\n",
    "for order in orders:\n",
    "    order_to_remove.append(order.ticket)\n",
    "\n",
    "for order_rm in order_to_remove:\n",
    "\n",
    "    request = {\n",
    "        \"action\"       : mt5.TRADE_ACTION_REMOVE,\n",
    "        \"order\"        : int(order_rm)\n",
    "    }\n",
    "\n",
    "    # send a trading request\n",
    "    result = mt5.order_send(request)\n",
    "\n",
    "    # check the execution result\n",
    "    if result.retcode != mt5.TRADE_RETCODE_DONE:\n",
    "        new_log(\"order_remove failed, retcode={}\".format(result.retcode))\n",
    "            \n",
    "    else:\n",
    "        new_log(f\"order_remove done {result}\")\n",
    "        new_log(\"removed position with POSITION_TICKET={}\".format(result.order))\n",
    "\n",
    "\n",
    "shutdown = mt5.shutdown()\n"
   ]
  },
  {
   "cell_type": "code",
   "execution_count": 33,
   "metadata": {},
   "outputs": [],
   "source": []
  },
  {
   "cell_type": "code",
   "execution_count": null,
   "metadata": {},
   "outputs": [],
   "source": []
  },
  {
   "cell_type": "code",
   "execution_count": 7,
   "metadata": {},
   "outputs": [],
   "source": [
    "# establish connection to the MetaTrader 5 terminal\n",
    "if not mt5.initialize():\n",
    "    new_log(f\"initialize() failed, error code = {mt5.last_error()}\")\n",
    "\n",
    "\n",
    "authorized = mt5.login(login,password,server)\n",
    "\n",
    "if authorized:\n",
    "    new_log(mt5.account_info())\n",
    "else:\n",
    "    new_log(f\"failed to connect at account #{login}, error code: {mt5.last_error()}\")\n",
    "    \n",
    "all_symbols = mt5.symbols_get()\n",
    "all_symbols = [s.name for s in all_symbols]\n",
    "\n",
    "account_info = mt5.account_info()\n",
    "\n",
    "balance = account_info.balance\n",
    "\n",
    "for order in orders_list:\n",
    "\n",
    "    symbol = order.symbol\n",
    "    symbol_ref = order.symbol_ref\n",
    "\n",
    "    symbol_info = mt5.symbol_info(symbol)  # informacoes do ativo principal\n",
    "    symbol_ref_info = mt5.symbol_info(symbol_ref) # informacoes do ativo referencia para calculo\n",
    "\n",
    "    point               = symbol_info.point\n",
    "    digits              = symbol_info.digits\n",
    "    ask_ref             = round(symbol_ref_info.ask, symbol_ref_info.digits) # referencia ao par da moeda margem\n",
    "    trade_contract_size = symbol_info.trade_contract_size\n",
    "\n",
    "    side        = order.side\n",
    "    entry       = round(order.entry,digits - 1)\n",
    "    take_profit = round(order.take_profit,digits - 1)\n",
    "    stop_loss   = round(order.stop_loss,digits - 1)\n",
    "\n",
    "    pip_value     = round((point*10/ask_ref)*trade_contract_size,2)\n",
    "    pip_stop_loss = round(round(abs(order.entry - order.stop_loss),5)*math.pow(10,digits - 1),1)\n",
    "    lot_size      = round((balance * (risk/100))/(pip_stop_loss*pip_value),2)\n",
    "\n",
    "    type_order = mt5.ORDER_TYPE_BUY_LIMIT if side == 'Buy' else mt5.ORDER_TYPE_SELL_LIMIT\n",
    "\n",
    "    request = {\n",
    "        \"action\"       : mt5.TRADE_ACTION_PENDING,\n",
    "        \"symbol\"       : symbol,\n",
    "        \"volume\"       : lot_size,\n",
    "        \"type\"         : type_order,\n",
    "        \"price\"        : entry,\n",
    "        \"sl\"           : stop_loss,\n",
    "        \"stoplimit\"    : stop_loss,\n",
    "        \"tp\"           : take_profit,\n",
    "        \"deviation\"    : deviation,                             \n",
    "        \"magic\"        : 0,\n",
    "        \"comment\"      : f\"{pip_stop_loss} pips\",\n",
    "        \"type_time\"    : mt5.ORDER_TIME_GTC,\n",
    "        \"type_filling\" : mt5.ORDER_FILLING_RETURN,\n",
    "    }\n",
    "\n",
    "\n",
    "    # send a trading request\n",
    "    result = mt5.order_send(request)\n",
    "\n",
    "    # check the execution result\n",
    "    if result.retcode != mt5.TRADE_RETCODE_DONE:\n",
    "        new_log(\"order_send failed, retcode={}\".format(result.retcode))\n",
    "    else:\n",
    "        new_log(f\"order_send done {result} \")\n",
    "        new_log(\"opened position with POSITION_TICKET={}\".format(result.order))\n",
    "\n",
    "\n",
    "    new_log(f''' \n",
    "    _________________________________________________________________________________________________\n",
    "    | {side}                                                                                     \n",
    "    | Instrument         : {symbol}     Deposit currency : {currency}                             \n",
    "    | Open price         : {entry}      Stop loss price  : {stop_loss}  ({pip_stop_loss} pips)    \n",
    "    | Account Balance    : {balance}    Risk (%)         : {risk}%                                \n",
    "    | {symbol_ref} price : {ask_ref}    Contract size (Units per Lot) : {int(trade_contract_size)}\n",
    "\n",
    "    | Lots > {lot_size}\n",
    "    | Money at risk > {(300 * (risk/100))}\n",
    "    _________________________________________________________________________________________________\n",
    "\n",
    "    ''') \n",
    "\n",
    "\n",
    "\n",
    "shutdown = mt5.shutdown()"
   ]
  },
  {
   "cell_type": "code",
   "execution_count": 16,
   "metadata": {},
   "outputs": [],
   "source": [
    "a = 0.0012324\n",
    "b = 0.01012312"
   ]
  },
  {
   "cell_type": "code",
   "execution_count": 21,
   "metadata": {},
   "outputs": [
    {
     "data": {
      "text/plain": [
       "0.0"
      ]
     },
     "execution_count": 21,
     "metadata": {},
     "output_type": "execute_result"
    }
   ],
   "source": [
    "aa = round(a,2)\n",
    "aa"
   ]
  },
  {
   "cell_type": "code",
   "execution_count": 22,
   "metadata": {},
   "outputs": [
    {
     "data": {
      "text/plain": [
       "0.01"
      ]
     },
     "execution_count": 22,
     "metadata": {},
     "output_type": "execute_result"
    }
   ],
   "source": [
    "bb = round(b,2)\n",
    "bb"
   ]
  },
  {
   "cell_type": "code",
   "execution_count": 24,
   "metadata": {},
   "outputs": [
    {
     "data": {
      "text/plain": [
       "False"
      ]
     },
     "execution_count": 24,
     "metadata": {},
     "output_type": "execute_result"
    }
   ],
   "source": [
    "aa > 0.00"
   ]
  },
  {
   "cell_type": "code",
   "execution_count": 25,
   "metadata": {},
   "outputs": [
    {
     "data": {
      "text/plain": [
       "True"
      ]
     },
     "execution_count": 25,
     "metadata": {},
     "output_type": "execute_result"
    }
   ],
   "source": [
    "bb > 0.00"
   ]
  },
  {
   "cell_type": "code",
   "execution_count": null,
   "metadata": {},
   "outputs": [],
   "source": []
  },
  {
   "cell_type": "code",
   "execution_count": 13,
   "metadata": {},
   "outputs": [
    {
     "name": "stdout",
     "output_type": "stream",
     "text": [
      " \n",
      "    _________________________________________________________________________________________________\n",
      "    | Buy                                                                                     \n",
      "    | Instrument         : USDJPY     Deposit currency : GBP                             \n",
      "    | Open price         : 134.05      Stop loss price  : 133.96  (8.0 pips)    \n",
      "    | Account Balance    : 300    Risk (%)         : 0.5%                                \n",
      "    | GBPJPY price : 170.312    Contract size (Units per Lot) : 100000\n",
      "    |\n",
      "    | Lots -> 0.03 +++ 0.031942078364565585\n",
      "    | Money at risk -> 1.5\n",
      "    _________________________________________________________________________________________________\n",
      "    \n",
      " \n",
      "    _________________________________________________________________________________________________\n",
      "    | Buy                                                                                     \n",
      "    | Instrument         : EURUSD     Deposit currency : GBP                             \n",
      "    | Open price         : 1.0922      Stop loss price  : 1.0916  (7.0 pips)    \n",
      "    | Account Balance    : 300    Risk (%)         : 0.5%                                \n",
      "    | GBPUSD price : 1.26318    Contract size (Units per Lot) : 100000\n",
      "    |\n",
      "    | Lots -> 0.03 +++ 0.027056277056277056\n",
      "    | Money at risk -> 1.5\n",
      "    _________________________________________________________________________________________________\n",
      "    \n",
      " \n",
      "    _________________________________________________________________________________________________\n",
      "    | Buy                                                                                     \n",
      "    | Instrument         : EURUSD     Deposit currency : GBP                             \n",
      "    | Open price         : 1.0914      Stop loss price  : 1.091  (4.0 pips)    \n",
      "    | Account Balance    : 300    Risk (%)         : 0.5%                                \n",
      "    | GBPUSD price : 1.26318    Contract size (Units per Lot) : 100000\n",
      "    |\n",
      "    | Lots -> 0.05 +++ 0.04734848484848485\n",
      "    | Money at risk -> 1.5\n",
      "    _________________________________________________________________________________________________\n",
      "    \n",
      " \n",
      "    _________________________________________________________________________________________________\n",
      "    | Buy                                                                                     \n",
      "    | Instrument         : USDCAD     Deposit currency : GBP                             \n",
      "    | Open price         : 1.3349      Stop loss price  : 1.334  (9.0 pips)    \n",
      "    | Account Balance    : 300    Risk (%)         : 0.5%                                \n",
      "    | GBPCAD price : 1.68982    Contract size (Units per Lot) : 100000\n",
      "    |\n",
      "    | Lots -> 0.03 +++ 0.028153153153153154\n",
      "    | Money at risk -> 1.5\n",
      "    _________________________________________________________________________________________________\n",
      "    \n",
      " \n",
      "    _________________________________________________________________________________________________\n",
      "    | Buy                                                                                     \n",
      "    | Instrument         : USDCAD     Deposit currency : GBP                             \n",
      "    | Open price         : 1.3321      Stop loss price  : 1.3312  (9.0 pips)    \n",
      "    | Account Balance    : 300    Risk (%)         : 0.5%                                \n",
      "    | GBPCAD price : 1.68982    Contract size (Units per Lot) : 100000\n",
      "    |\n",
      "    | Lots -> 0.03 +++ 0.028153153153153154\n",
      "    | Money at risk -> 1.5\n",
      "    _________________________________________________________________________________________________\n",
      "    \n",
      " \n",
      "    _________________________________________________________________________________________________\n",
      "    | Buy                                                                                     \n",
      "    | Instrument         : USDJPY     Deposit currency : GBP                             \n",
      "    | Open price         : 134.29      Stop loss price  : 134.19  (10.0 pips)    \n",
      "    | Account Balance    : 300    Risk (%)         : 0.5%                                \n",
      "    | GBPJPY price : 170.312    Contract size (Units per Lot) : 100000\n",
      "    |\n",
      "    | Lots -> 0.03 +++ 0.02555366269165247\n",
      "    | Money at risk -> 1.5\n",
      "    _________________________________________________________________________________________________\n",
      "    \n",
      " \n",
      "    _________________________________________________________________________________________________\n",
      "    | Buy                                                                                     \n",
      "    | Instrument         : USDJPY     Deposit currency : GBP                             \n",
      "    | Open price         : 133.79      Stop loss price  : 133.67  (12.0 pips)    \n",
      "    | Account Balance    : 300    Risk (%)         : 0.5%                                \n",
      "    | GBPJPY price : 170.312    Contract size (Units per Lot) : 100000\n",
      "    |\n",
      "    | Lots -> 0.02 +++ 0.02129471890971039\n",
      "    | Money at risk -> 1.5\n",
      "    _________________________________________________________________________________________________\n",
      "    \n",
      " \n",
      "    _________________________________________________________________________________________________\n",
      "    | Buy                                                                                     \n",
      "    | Instrument         : EURUSD     Deposit currency : GBP                             \n",
      "    | Open price         : 1.0939      Stop loss price  : 1.0932  (7.0 pips)    \n",
      "    | Account Balance    : 300    Risk (%)         : 0.5%                                \n",
      "    | GBPUSD price : 1.26318    Contract size (Units per Lot) : 100000\n",
      "    |\n",
      "    | Lots -> 0.03 +++ 0.027056277056277056\n",
      "    | Money at risk -> 1.5\n",
      "    _________________________________________________________________________________________________\n",
      "    \n"
     ]
    }
   ],
   "source": [
    "# establish connection to the MetaTrader 5 terminal\n",
    "if not mt5.initialize():\n",
    "    new_log(f\"initialize() failed, error code = {mt5.last_error()}\")\n",
    "\n",
    "\n",
    "authorized = mt5.login(login,password,server)\n",
    "\n",
    "if authorized:\n",
    "    # display trading account data 'as is'\n",
    "    new_log(mt5.account_info())\n",
    "else:\n",
    "    new_log(f\"failed to connect at account #{login}, error code: {mt5.last_error()}\")\n",
    "    \n",
    "\n",
    "all_symbols = mt5.symbols_get()\n",
    "all_symbols = [s.name for s in all_symbols]\n",
    "\n",
    "account_info = mt5.account_info()\n",
    "\n",
    "balance = account_info.balance\n",
    "balance = 300\n",
    "\n",
    "for order in orders_list:\n",
    "\n",
    "    symbol = order.symbol\n",
    "    symbol_ref = order.symbol_ref\n",
    "\n",
    "    symbol_info = mt5.symbol_info(symbol)  # informacoes do ativo principal\n",
    "    symbol_ref_info = mt5.symbol_info(symbol_ref) # informacoes do ativo referencia para calculo\n",
    "\n",
    "    point               = symbol_info.point\n",
    "    digits              = symbol_info.digits\n",
    "    ask_ref             = round(symbol_ref_info.ask, symbol_ref_info.digits) # referencia ao par da moeda margem\n",
    "    trade_contract_size = symbol_info.trade_contract_size\n",
    "\n",
    "    side        = order.side\n",
    "    entry       = round(order.entry,digits - 1)\n",
    "    take_profit = round(order.take_profit,digits - 1)\n",
    "    stop_loss   = round(order.stop_loss,digits - 1)\n",
    "\n",
    "    pip_value     = round((point*10/ask_ref)*trade_contract_size,2)\n",
    "    pip_stop_loss = round(round(abs(order.entry - order.stop_loss),5)*math.pow(10,digits - 1),0)\n",
    "    lot_size      = round((balance * (risk/100))/(pip_stop_loss*pip_value),2)\n",
    "\n",
    "\n",
    "    print(f''' \n",
    "    _________________________________________________________________________________________________\n",
    "    | {side}                                                                                     \n",
    "    | Instrument         : {symbol}     Deposit currency : {currency}                             \n",
    "    | Open price         : {entry}      Stop loss price  : {stop_loss}  ({pip_stop_loss} pips)    \n",
    "    | Account Balance    : {balance}    Risk (%)         : {risk}%                                \n",
    "    | {symbol_ref} price : {ask_ref}    Contract size (Units per Lot) : {int(trade_contract_size)}\n",
    "    |\n",
    "    | Lots -> {lot_size} +++ {(balance * (risk/100))/(pip_stop_loss*pip_value)}\n",
    "    | Money at risk -> {(300 * (risk/100))}\n",
    "    _________________________________________________________________________________________________\n",
    "    ''') \n",
    "\n",
    "\n",
    "\n",
    "shutdown = mt5.shutdown()"
   ]
  },
  {
   "cell_type": "code",
   "execution_count": 29,
   "metadata": {},
   "outputs": [],
   "source": [
    "class Person:\n",
    "    def __init__(self, name, age):\n",
    "        self.name = name\n",
    "        self.age = age\n",
    "\n",
    "people = [Person('Alice', 25), Person('Bob', 30), Person('Charlie', 20)]\n",
    "\n",
    "people.sort(key=lambda x: x.age)"
   ]
  },
  {
   "cell_type": "code",
   "execution_count": 30,
   "metadata": {},
   "outputs": [
    {
     "name": "stdout",
     "output_type": "stream",
     "text": [
      "Charlie\n",
      "Alice\n",
      "Bob\n"
     ]
    }
   ],
   "source": [
    "for p in people:\n",
    "\n",
    "    print(p.name)"
   ]
  },
  {
   "cell_type": "code",
   "execution_count": 17,
   "metadata": {},
   "outputs": [
    {
     "name": "stdout",
     "output_type": "stream",
     "text": [
      "0\n"
     ]
    }
   ],
   "source": [
    "import math\n",
    "\n",
    "x = 0.187056277056277056\n",
    "rounded_down = math.floor(x)\n",
    "print(rounded_down)  # output: 0.02\n"
   ]
  },
  {
   "cell_type": "code",
   "execution_count": 29,
   "metadata": {},
   "outputs": [
    {
     "name": "stdout",
     "output_type": "stream",
     "text": [
      "['EURUSD', 'GBPUSD', 'USDCHF', 'USDJPY', 'USDCAD', 'AUDUSD', 'AUDNZD', 'AUDCAD', 'AUDCHF', 'AUDJPY', 'CHFJPY', 'EURGBP', 'EURAUD', 'EURJPY', 'EURCHF', 'EURNZD', 'EURCAD', 'GBPCHF', 'GBPJPY', 'CADCHF', 'CADJPY', 'GBPAUD', 'GBPCAD', 'GBPNZD', 'NZDCAD', 'NZDCHF', 'NZDJPY', 'NZDUSD', 'USDSGD', 'AUDSGD', 'CHFSGD', 'EURDKK', 'EURHKD', 'EURNOK', 'EURPLN', 'EURSEK', 'EURSGD', 'EURTRY', 'EURZAR', 'GBPDKK', 'GBPNOK', 'GBPSEK', 'GBPSGD', 'GBPTRY', 'NOKJPY', 'NOKSEK', 'SEKJPY', 'SGDJPY', 'USDCNH', 'USDCZK', 'USDDKK', 'USDHKD', 'USDHUF', 'USDMXN', 'USDNOK', 'USDPLN', 'USDRUB', 'USDSEK', 'USDTHB', 'USDTRY', 'USDZAR', 'AUS200', 'CHINA50', 'ES35', 'STOXX50', 'F40', 'HK50', 'IT40', 'JP225', 'UK100', 'US2000', 'US30', 'US500', 'USTEC', 'XAGEUR', 'XAGUSD', 'XAUEUR', 'XAUUSD', 'XPDUSD', 'XPTUSD', 'XBRUSD', 'XNGUSD', 'XTIUSD', 'BTCUSD', 'BCHUSD', 'ETHUSD', 'LTCUSD', 'DSHUSD', 'AAPL.NAS', 'ADBE.NAS', 'ADI.NAS', 'ADP.NAS', 'AMAT.NAS', 'AMGN.NAS', 'AMZN.NAS', 'ATVI.NAS', 'AVGO.NAS', 'BKNG.NAS', 'BIIB.NAS', 'CELG.NAS', 'CHTR.NAS', 'CMCSA.NAS', 'CME.NAS', 'COST.NAS', 'CRON.NAS', 'CSCO.NAS', 'CSX.NAS', 'CTSH.NAS', 'DISH.NAS', 'EA.NAS', 'EBAY.NAS', 'EQIX.NAS', 'FOX.NAS', 'FOXA.NAS', 'GILD.NAS', 'GOOG.NAS', 'INTC.NAS', 'INTU.NAS', 'ISRG.NAS', 'KHC.NAS', 'MAR.NAS', 'MDLZ.NAS', 'MSFT.NAS', 'MU.NAS', 'NFLX.NAS', 'NVDA.NAS', 'PEP.NAS', 'PYPL.NAS', 'QCOM.NAS', 'REGN.NAS', 'SBUX.NAS', 'SHPG.NAS', 'TFCF.NAS', 'TFCFA.NAS', 'TLRY.NAS', 'TMUS.NAS', 'TSLA.NAS', 'TXN.NAS', 'VRTX.NAS', 'WBA.NAS', 'ABBV.NYSE', 'ABT.NYSE', 'ACB.NYSE', 'AGN.NYSE', 'AXP.NYSE', 'BA.NYSE', 'BAC.NYSE', 'BLK.NYSE', 'BMY.NYSE', 'C.NYSE', 'CGC.NYSE', 'CVS.NYSE', 'CVX.NYSE', 'DD.NYSE', 'DIS.NYSE', 'DWDP.NYSE', 'DOW.NYSE', 'GE.NYSE', 'GS.NYSE', 'HD.NYSE', 'HON.NYSE', 'IBM.NYSE', 'JNJ.NYSE', 'JPM.NYSE', 'KO.NYSE', 'LLY.NYSE', 'LMT.NYSE', 'MA.NYSE', 'MCD.NYSE', 'MMM.NYSE', 'MO.NYSE', 'MRK.NYSE', 'MS.NYSE', 'NKE.NYSE', 'ORCL.NYSE', 'PFE.NYSE', 'PG.NYSE', 'PM.NYSE', 'SLB.NYSE', 'SPOT.NYSE', 'T.NYSE', 'TWX.NYSE', 'UNH.NYSE', 'UNP.NYSE', 'UPS.NYSE', 'USB.NYSE', 'V.NYSE', 'VZ.NYSE', 'WFC.NYSE', 'WMT.NYSE', 'XOM.NYSE', 'XRPUSD', 'XLMUSD', 'EOSUSD', 'DBA.NYSE', 'EEM.NYSE', 'EWH.NYSE', 'EWW.NYSE', 'EWZ.NYSE', 'FXI.NYSE', 'GDX.NYSE', 'GDXJ.NYSE', 'IEMG.NYSE', 'LQD.NYSE', 'MOO.NYSE', 'MJ.NYSE', 'RSX.NYSE', 'SIL.NYSE', 'UNG.NYSE', 'URA.NYSE', 'USO.NYSE', 'VXX.NYSE', 'VXXB.NYSE', 'VYM.NYSE', 'XLE.NYSE', 'XLF.NYSE', 'XLI.NYSE', 'XLP.NYSE', 'XLU.NYSE', 'XOP.NYSE', 'QQQ.NAS', 'TLT.NAS', 'XAUAUD', 'LIN.NYSE', 'DEO.NYSE', 'NEE.NYSE', 'AMT.NYSE', 'BABA.NYSE', 'BRK-B.NYSE', 'TMO.NYSE', 'LYFT.NAS', 'TM.NYSE', 'UBER.NYSE', 'PINS.NYSE', 'CA60', 'NETH25', 'SE30', 'SWI20', 'CHINAH', 'SA40', 'NOR25', 'TecDE30', 'MidDE60', 'ADS.ETR', 'ALV.ETR', 'BAS.ETR', 'BAYN.ETR', 'BMW.ETR', 'BEI.ETR', 'CON.ETR', '1COV.ETR', 'DB1.ETR', 'DPW.ETR', 'DTE.ETR', 'EOAN.ETR', 'FRE.ETR', 'FME.ETR', 'HEI.ETR', 'HEN3.ETR', 'IFX.ETR', 'LHA.ETR', 'MRK.ETR', 'MUV2.ETR', 'RWE.ETR', 'SAP.ETR', 'SIE.ETR', 'VOW3.ETR', 'VNA.ETR', 'ANA.MAD', 'ACX.MAD', 'ACS.MAD', 'AENA.MAD', 'AMS.MAD', 'SAB.MAD', 'SAN.MAD', 'BKT.MAD', 'BBVA.MAD', 'CABK.MAD', 'CLNX.MAD', 'CIE.MAD', 'COL.MAD', 'ENG.MAD', 'ELE.MAD', 'FER.MAD', 'GRF.MAD', 'IBE.MAD', 'ITX.MAD', 'IDR.MAD', 'MAP.MAD', 'TL5.MAD', 'MEL.MAD', 'MRL.MAD', 'NTGY.MAD', 'REP.MAD', 'SGRE.MAD', 'TRE.MAD', 'TEF.MAD', 'VIS.MAD', 'AC.PAR', 'AIR.PAR', 'AI.PAR', 'ATO.PAR', 'CS.PAR', 'BNP.PAR', 'EN.PAR', 'CAP.PAR', 'CA.PAR', 'ACA.PAR', 'BN.PAR', 'DSY.PAR', 'ENGI.PAR', 'EL.PAR', 'RMS.PAR', 'KER.PAR', 'LR.PAR', 'OR.PAR', 'MC.PAR', 'ML.PAR', 'ORA.PAR', 'RI.PAR', 'UG.PAR', 'PUB.PAR', 'RNO.PAR', 'SAF.PAR', 'SGO.PAR', 'SAN.PAR', 'SU.PAR', 'GLE.PAR', 'SW.PAR', 'FP.PAR', 'FR.PAR', 'VIE.PAR', 'DG.PAR', 'VIV.PAR', 'AALB.AMS', 'ABN.AMS', 'AGN.AMS', 'AD.AMS', 'ASML.AMS', 'ASRNL.AMS', 'GLPG.AMS', 'HEIA.AMS', 'INGA.AMS', 'DSM.AMS', 'KPN.AMS', 'NN.AMS', 'PHIA.AMS', 'RAND.AMS', 'URW.AMS', 'UNA.AMS', 'VPK.AMS', 'WKL.AMS', 'III.LSE', 'ADM.LSE', 'AAL.LSE', 'ANTO.LSE', 'AHT.LSE', 'ABF.LSE', 'AML.LSE', 'AZN.LSE', 'AV.LSE', 'BA.LSE', 'BARC.LSE', 'BDEV.LSE', 'BATS.LSE', 'BKG.LSE', 'BP.LSE', 'BLND.LSE', 'BTA.LSE', 'BNZL.LSE', 'BRBY.LSE', 'CCL.LSE', 'CNA.LSE', 'CCH.LSE', 'CPG.LSE', 'CRH.LSE', 'DCC.LSE', 'DGE.LSE', 'DLG.LSE', 'SMDS.LSE', 'EZJ.LSE', 'EXPN.LSE', 'FRES.LSE', 'GLEN.LSE', 'GSK.LSE', 'HLMA.LSE', 'HL.LSE', 'HSBA.LSE', 'IAG.LSE', 'IMB.LSE', 'INF.LSE', 'ITRK.LSE', 'ITV.LSE', 'JMAT.LSE', 'JE.LSE', 'KGF.LSE', 'LAND.LSE', 'LGEN.LSE', 'LLOY.LSE', 'LSE.LSE', 'MKS.LSE', 'MRO.LSE', 'MNDI.LSE', 'NG.LSE', 'NXT.LSE', 'OCDO.LSE', 'FLTR.LSE', 'PSON.LSE', 'PSN.LSE', 'PRU.LSE', 'RB.LSE', 'REL.LSE', 'RTO.LSE', 'RIO.LSE', 'RR.LSE', 'RMG.LSE', 'SGE.LSE', 'SBRY.LSE', 'SDR.LSE', 'SMT.LSE', 'SGRO.LSE', 'SVT.LSE', 'RDSB.LSE', 'SN.LSE', 'SMIN.LSE', 'SKG.LSE', 'STAN.LSE', 'STJ.LSE', 'TSCO.LSE', 'ULVR.LSE', 'UU.LSE', 'VOD.LSE', 'WTB.LSE', 'WPP.LSE', 'DRI.ETR', 'ARL.ETR', 'ADV.ETR', 'AIXA.ETR', 'NDA.ETR', 'BC8.ETR', 'GBF.ETR', 'BNR.ETR', 'COK.ETR', 'AFX.ETR', 'CBK.ETR', 'COP.ETR', 'DBK.ETR', 'DWNI.ETR', 'DEZ.ETR', 'DRW8.ETR', 'ZIL2.ETR', 'EVK.ETR', 'EVT.ETR', 'FRA.ETR', 'FNTN.ETR', 'G1A.ETR', 'GFT.ETR', 'HNR1.ETR', 'HOT.ETR', 'BOSS.ETR', 'SDF.ETR', 'KGX.ETR', 'KCO.ETR', 'KRN.ETR', 'LXS.ETR', 'LEO.ETR', 'LIN.ETR', 'M5Z.ETR', 'MOR.ETR', 'MTX.ETR', 'NEM.ETR', 'NDX1.ETR', 'PFV.ETR', 'PSM.ETR', 'QIA.ETR', 'RHM.ETR', 'RHK.ETR', 'RRTL.ETR', 'SZG.ETR', 'SRT.ETR', 'SGL.ETR', 'WAF.ETR', 'SOW.ETR', 'SZU.ETR', 'SMHN.ETR', 'SY1.ETR', 'TEG.ETR', 'TLX.ETR', 'O2D.ETR', 'TKA.ETR', 'UN01.ETR', 'UTDI.ETR', 'WCH.ETR', 'ZAL.ETR', 'AF.PAR', 'ALD.PAR', 'ALO.PAR', 'AKE.PAR', 'BOL.PAR', 'BVI.PAR', 'CO.PAR', 'CDI.PAR', 'POM.PAR', 'EDEN.PAR', 'FGR.PAR', 'EDF.PAR', 'EO.PAR', 'FNAC.PAR', 'MMB.PAR', 'MAU.PAR', 'RCO.PAR', 'HO.PAR', 'UBI.PAR', 'VK.PAR', 'VCT.PAR', 'AKZA.AMS', 'SBMO.AMS', 'TOM2.AMS', 'AUTO.LSE', 'BHP.LSE', 'CPI.LSE', 'HMSO.LSE', 'HAS.LSE', 'IMI.LSE', 'ICP.LSE', 'JUP.LSE', 'EMG.LSE', 'NEX.LSE', 'PFC.LSE', 'SRP.LSE', 'TPK.LSE', 'TLW.LSE', 'ICAD.PAR', 'JCDX.PAR', 'FPE3.ETR', 'NWO.ETR', 'PAH3.ETR', 'SHA.ETR', 'FUR.AMS', 'WHA.AMS', 'MTS.MAD', 'ATST.LSE', 'OMU.LSE', 'ECMPA.AMS', 'AMD.NAS', 'AKAM.NAS', 'ALGN.NAS', 'LNT.NAS', 'AAL.NAS', 'AEP.NAS', 'ANSS.NAS', 'APA.NAS', 'ADSK.NAS', 'CHRW.NAS', 'CDNS.NAS', 'CDW.NAS', 'CINF.NAS', 'CTAS.NAS', 'CPRT.NAS', 'AAP.NYSE', 'AES.NYSE', 'AFL.NYSE', 'A.NYSE', 'APD.NYSE', 'ALK.NYSE', 'ALB.NYSE', 'ARE.NYSE', 'ALLE.NYSE', 'ALL.NYSE', 'AMCR.NYSE', 'AEE.NYSE', 'AIG.NYSE', 'AWK.NYSE', 'AMP.NYSE', 'ABC.NYSE', 'AME.NYSE', 'APH.NYSE', 'AON.NYSE', 'AOS.NYSE', 'APTV.NYSE', 'ADM.NYSE', 'ANET.NYSE', 'AJG.NYSE', 'AIZ.NYSE', 'ATO.NYSE', 'AZO.NYSE', 'AVB.NYSE', 'AVY.NYSE', 'BKR.NYSE', 'BLL.NYSE', 'BK.NYSE', 'BAX.NYSE', 'BDX.NYSE', 'BBY.NYSE', 'BIO.NYSE', 'BWA.NYSE', 'BXP.NYSE', 'BSX.NYSE', 'BR.NYSE', 'CPB.NYSE', 'COF.NYSE', 'CAH.NYSE', 'KMX.NYSE', 'CCL.NYSE', 'CARR.NYSE', 'CTLT.NYSE', 'CAT.NYSE', 'CBRE.NYSE', 'CE.NYSE', 'CNC.NYSE', 'CNP.NYSE', 'CF.NYSE', 'SCHW.NYSE', 'CMG.NYSE', 'CB.NYSE', 'CHD.NYSE', 'CI.NYSE', 'CFG.NYSE', 'CLX.NYSE', 'CMS.NYSE', 'CL.NYSE', 'CMA.NYSE', 'CAG.NYSE', 'COP.NYSE', 'ED.NYSE', 'STZ.NYSE', 'COO.NYSE', 'GLW.NYSE', 'CTVA.NYSE', 'CCI.NYSE', 'CMI.NYSE', 'DHI.NYSE', 'DHR.NYSE', 'DRI.NYSE', 'DVA.NYSE', 'DE.NYSE', 'BFB.NYSE', 'ACN.NYSE', 'BF/B.NYSE', 'DAL.NYSE', 'XRAY.NAS', 'DVN.NYSE', 'DXCM.NAS', 'FANG.NAS', 'DLR.NYSE', 'DFS.NYSE', 'DG.NYSE', 'DLTR.NAS', 'D.NYSE', 'DPZ.NYSE', 'DOV.NYSE', 'DTE.NYSE', 'DUK.NYSE', 'DXC.NYSE', 'EMN.NYSE', 'ETN.NYSE', 'ECL.NYSE', 'EIX.NYSE', 'EW.NYSE', 'EMR.NYSE', 'ENPH.NAS', 'ETR.NYSE', 'EOG.NYSE', 'EFX.NYSE', 'EQR.NYSE', 'ESS.NYSE', 'EL.NYSE', 'ETSY.NAS', 'ES.NYSE', 'RE.NYSE', 'EXC.NAS', 'EXPE.NAS', 'EXPD.NAS', 'EXR.NYSE', 'FFIV.NAS', 'FAST.NAS', 'FRT.NYSE', 'FDX.NYSE', 'FIS.NYSE', 'FITB.NAS', 'FE.NYSE', 'FRC.NYSE', 'FISV.NAS', 'FLT.NYSE', 'FLS.NYSE', 'FMC.NYSE', 'F.NYSE', 'FTNT.NAS', 'FTV.NYSE', 'FBHS.NYSE', 'FCX.NYSE', 'IT.NYSE', 'BEN.NYSE', 'GPS.NYSE', 'GD.NYSE', 'GIS.NYSE', 'GM.NYSE', 'GPC.NAS', 'GL.NYSE', 'GPN.NYSE', 'GWW.NYSE', 'HAL.NYSE', 'HBI.NYSE', 'HIG.NYSE', 'HAS.NAS', 'HCA.NYSE', 'PEAK.NYSE', 'HSIC.NAS', 'HSY.NYSE', 'HES.NYSE', 'HPE.NYSE', 'HLT.NYSE', 'HOLX.NAS', 'HRL.NYSE', 'HST.NAS', 'HWM.NYSE', 'HPQ.NYSE', 'HUM.NYSE', 'HBAN.NAS', 'HII.NYSE', 'IEX.NYSE', 'IDXX.NAS', 'ITW.NYSE', 'ILMN.NAS', 'INCY.NAS', 'IR.NYSE', 'ICE.NYSE', 'IP.NYSE', 'IPG.NYSE', 'IFF.NYSE', 'IVZ.NYSE', 'IPGP.NAS', 'NI.NYSE', 'IQV.NYSE', 'IRM.NYSE', 'J.NYSE', 'JBHT.NAS', 'SJM.NYSE', 'JCI.NYSE', 'JNPR.NYSE', 'K.NYSE', 'KEY.NYSE', 'KEYS.NYSE', 'KMB.NYSE', 'KIM.NYSE', 'KMI.NYSE', 'KLAC.NAS', 'KR.NYSE', 'LB.NYSE', 'LHX.NYSE', 'LH.NYSE', 'LRCX.NAS', 'LW.NYSE', 'LVS.NYSE', 'LEG.NYSE', 'LDOS.NYSE', 'LEN.NYSE', 'LNC.NYSE', 'LYV.NYSE', 'L.NYSE', 'LOW.NYSE', 'LUMN.NYSE', 'LYB.NYSE', 'MTB.NYSE', 'MRO.NYSE', 'MPC.NYSE', 'MMC.NYSE', 'MLM.NYSE', 'MAS.NYSE', 'MKC.NYSE', 'MCK.NYSE', 'MDT.NYSE', 'MET.NYSE', 'MTD.NYSE', 'MCHP.NAS', 'MAA.NYSE', 'MHK.NYSE', 'TAP.NYSE', 'MNST.NAS', 'MCO.NYSE', 'MOS.NYSE', 'MSI.NYSE', 'MSCI.NYSE', 'NDAQ.NAS', 'NTAP.NAS', 'NWL.NAS', 'NEM.NYSE', 'NWSA.NAS', 'NWS.NAS', 'NSC.NYSE', 'NTRS.NAS', 'NOC.NYSE', 'NLOK.NAS', 'NCLH.NYSE', 'NOV.NYSE', 'NRG.NYSE', 'NUE.NYSE', 'NVR.NYSE', 'ORLY.NAS', 'OXY.NYSE', 'OMC.NYSE', 'OKE.NYSE', 'OTIS.NYSE', 'PCAR.NAS', 'PKG.NYSE', 'PH.NYSE', 'PAYX.NAS', 'PAYC.NYSE', 'PNR.NYSE', 'PBCT.NAS', 'PKI.NYSE', 'PRGO.NYSE', 'PSX.NYSE', 'PNW.NYSE', 'PXD.NYSE', 'PNC.NYSE', 'PPG.NYSE', 'PPL.NYSE', 'PFG.NAS', 'PGR.NYSE', 'PLD.NYSE', 'PRU.NYSE', 'PEG.NYSE', 'PSA.NYSE', 'PHM.NYSE', 'PVH.NYSE', 'PWR.NYSE', 'DGX.NYSE', 'RJF.NYSE', 'RYN.NYSE', 'O.NYSE', 'REG.NAS', 'RF.NYSE', 'RSG.NYSE', 'RMD.NYSE', 'RHI.NYSE', 'ROK.NYSE', 'ROL.NYSE', 'ROP.NYSE', 'ROST.NAS', 'RCL.NYSE', 'SPGI.NYSE', 'CRM.NYSE', 'STX.NAS', 'SEE.NYSE', 'SRE.NYSE', 'NOW.NYSE', 'SHW.NYSE', 'SPG.NYSE', 'SLG.NYSE', 'SNA.NYSE', 'SO.NYSE', 'LUV.NYSE', 'SWK.NYSE', 'STT.NYSE', 'STE.NYSE', 'SYK.NYSE', 'SYF.NYSE', 'SYY.NYSE', 'TROW.NAS', 'TPR.NYSE', 'TGT.NYSE', 'TEL.NYSE', 'FTI.NYSE', 'TDY.NYSE', 'TFX.NYSE', 'TER.NAS', 'TXT.NYSE', 'TJX.NYSE', 'TT.NYSE', 'TDG.NYSE', 'TRV.NYSE', 'TFC.NYSE', 'TWTR.NYSE', 'TYL.NYSE', 'TSN.NYSE', 'UDR.NYSE', 'ULTA.NAS', 'UAA.NYSE', 'UA.NYSE', 'UAL.NAS', 'URI.NYSE', 'UHS.NYSE', 'UNM.NYSE', 'VLO.NYSE', 'VTR.NYSE', 'VRSN.NAS', 'VFC.NYSE', 'VTRS.NAS', 'VG.NAS', 'VNO.NYSE', 'VMC.NYSE', 'WRB.NYSE', 'WAB.NYSE', 'WM.NYSE', 'WAT.NYSE', 'WEC.NYSE', 'WELL.NYSE', 'WST.NYSE', 'WDC.NAS', 'WU.NYSE', 'WRK.NYSE', 'WY.NYSE', 'WHR.NYSE', 'WMB.NYSE', 'WLTW.NAS', 'WYNN.NAS', 'XEL.NAS', 'XYL.NYSE', 'YUM.NYSE', 'ZBH.NYSE', 'ZION.NAS', 'ZTS.NYSE', 'JKHY.NAS', 'LKQ.NAS', 'MKTX.NAS', 'ODFL.NAS', 'POOL.NAS', 'QRVO.NAS', 'RDWR.NAS', 'SBAC.NAS', 'SWKS.NAS', 'SNPS.NAS', 'TTWO.NAS', 'TSCO.NAS', 'TRMB.NAS', 'VRSK.NAS', 'ZBRA.NAS', 'SE.NYSE', 'SQ.NYSE', 'RTX.NYSE', 'SNAP.NYSE', 'SNOW.NYSE', 'VMW.NYSE', 'SCCO.NYSE', 'CVNA.NYSE', 'BX.NYSE', 'EPD.NYSE', 'TDOC.NYSE', 'RKT.NYSE', 'PANW.NYSE', 'W.NYSE', 'KKR.NYSE', 'NET.NYSE', 'YUMC.NYSE', 'MPLX.NYSE', 'PCG.NYSE', 'HUBS.NYSE', 'EPAM.NYSE', 'UI.NYSE', 'GNRC.NYSE', 'QS.NYSE', 'CUK.NYSE', 'ATUS.NYSE', 'ET.NYSE', 'TRU.NYSE', 'HEI.NYSE', 'INVH.NYSE', 'SUI.NYSE', 'ALLY.NYSE', 'MKL.NYSE', 'DT.NYSE', 'ESTC.NYSE', 'AGR.NYSE', 'CRL.NYSE', 'GDDY.NYSE', 'CDAY.NYSE', 'SAM.NYSE', 'ELAN.NYSE', 'FICO.NYSE', 'SMG.NYSE', 'CCK.NYSE', 'MPW.NYSE', 'MOH.NYSE', 'BRO.NYSE', 'WPC.NYSE', 'TREX.NYSE', 'EQH.NYSE', 'FDS.NYSE', 'NLY.NYSE', 'FNF.NYSE', 'MTN.NYSE', 'APO.NYSE', 'WTRG.NYSE', 'ELS.NYSE', 'BAH.NYSE', 'RPM.NYSE', 'LII.NYSE', 'DAR.NYSE', 'WLK.NYSE', 'TTC.NYSE', 'BG.NYSE', 'BFAM.NYSE', 'GWRE.NYSE', 'CPT.NYSE', 'CCIV.NYSE', 'SMAR.NYSE', 'LAD.NYSE', 'MGP.NYSE', 'RH.NYSE', 'TWLO.NYSE', 'ABNB.NAS', 'AFRM.NAS', 'ALNY.NAS', 'AMED.NAS', 'APPN.NAS', 'AZPN.NAS', 'BMRN.NAS', 'BSY.NAS', 'BYND.NAS', 'CG.NAS', 'CGNX.NAS', 'COUP.NAS', 'CRWD.NAS', 'CSGP.NAS', 'CZR.NAS', 'DBX.NAS', 'DDOG.NAS', 'DISCK.NAS', 'DKNG.NAS', 'DOCU.NAS', 'ENTG.NAS', 'ERIE.NAS', 'EXAS.NAS', 'EXPI.NAS', 'FIVE.NAS', 'FIVN.NAS', 'FSLR.NAS', 'FWONK.NAS', 'GDRX.NAS', 'GLPI.NAS', 'IAC.NAS', 'IBKR.NAS', 'IEP.NAS', 'KDP.NAS', 'LAZR.NAS', 'LBRDA.NAS', 'LBRDK.NAS', 'LOGI.NAS', 'LPLA.NAS', 'LSXMK.NAS', 'MASI.NAS', 'MDB.NAS', 'MORN.NAS', 'MPWR.NAS', 'MRNA.NAS', 'MRTX.NAS', 'MTCH.NAS', 'NBIX.NAS', 'NDSN.NAS', 'NTRA.NAS', 'NVAX.NAS', 'OKTA.NAS', 'OLED.NAS', 'ON.NAS', 'OPEN.NAS', 'PCTY.NAS', 'PEGA.NAS', 'PENN.NAS', 'PLUG.NAS', 'PODD.NAS', 'PTC.NAS', 'PTON.NAS', 'RGEN.NAS', 'ROKU.NAS', 'RPRX.NAS', 'RUN.NAS', 'SGEN.NAS', 'SIRI.NAS', 'SPLK.NAS', 'SPWR.NAS', 'SSNC.NAS', 'TECH.NAS', 'TTD.NAS', 'WDAY.NAS', 'WISH.NAS', 'WMG.NAS', 'Z.NAS', 'ZG.NAS', 'ZI.NAS', 'ZM.NAS', 'ZS.NAS', 'MUX.NYSE', 'BEST.NYSE', 'ESGC.NYSE', 'QD.NYSE', 'CIG.NYSE', 'LYG.NYSE', 'TTI.NYSE', 'ABEV.NYSE', 'BBAR.NYSE', 'KOS.NYSE', 'WMC.NYSE', 'GNW.NYSE', 'CHS.NYSE', 'RIG.NYSE', 'NAT.NYSE', 'SAN.NYSE', 'WTI.NYSE', 'NOK.NYSE', 'MITT.NYSE', 'IVR.NYSE', 'MFA.NYSE', 'BRFS.NYSE', 'CO.NYSE', 'BBD.NYSE', 'SWN.NYSE', 'TEF.NYSE', 'ITUB.NYSE', 'HMY.NYSE', 'HLX.NYSE', 'EXK.NYSE', 'GCI.NYSE', 'ARCO.NYSE', 'VHC.NYSE', 'CRK.NYSE', 'GGB.NYSE', 'CBD.NYSE', 'GEO.NYSE', 'DHT.NYSE', 'AMRX.NYSE', 'AIV.NYSE', 'BKD.NYSE', 'PHK.NYSE', 'FSM.NYSE', 'CORR.NYSE', 'CX.NYSE', 'KGC.NYSE', 'TWO.NYSE', 'SBS.NYSE', 'GOL.NYSE', 'AGRO.NYSE', 'PBI.NYSE', 'PBR.NYSE', 'COTY.NYSE', 'BW.NYSE', 'AM.NYSE', 'ADT.NYSE', 'UMC.NYSE', 'NVGS.NYSE', 'BB.NYSE', 'CDE.NYSE', 'GEL.NYSE', 'BDJ.NYSE', 'AXL.NYSE', 'AROC.NYSE', 'TV.NYSE', 'TWI.NYSE', 'CMRE.NYSE', 'DNOW.NYSE', 'RYAM.NYSE', 'RRC.NYSE', 'GFI.NYSE', 'PGRE.NYSE', 'AR.NYSE', 'LFC.NYSE', 'INN.NYSE', 'DRH.NYSE', 'BCS.NYSE', 'RWT.NYSE', 'PUMP.NYSE', 'SOL.NYSE', 'RPAI.NYSE', 'EGO.NYSE', 'FBP.NYSE', 'ESRT.NYSE', 'FPI.NYSE', 'CEN.NYSE', 'TEVA.NYSE', 'LXP.NYSE', 'LBRT.NYSE', 'HYLN.NYSE', 'USX.NYSE', 'MGY.NYSE', 'HYT.NYSE', 'SLCA.NYSE', 'TALO.NYSE', 'ARR.NYSE', 'CYH.NYSE', 'DB.NYSE', 'ING.NYSE', 'SHO.NYSE', 'EC.NYSE', 'CIM.NYSE', 'BDN.NYSE', 'SCM.NYSE', 'RGS.NYSE', 'CARS.NYSE', 'CLDT.NYSE', 'GMRE.NYSE', 'SITC.NYSE', 'DBD.NYSE', 'AMX.NYSE', 'MWA.NYSE', 'SCS.NYSE', 'EVRI.NYSE', 'PBF.NYSE', 'EDU.NYSE', 'OI.NYSE', 'CNX.NYSE', 'YEXT.NYSE', 'KAR.NYSE', 'VLRS.NYSE', 'USAC.NYSE', 'ZUO.NYSE', 'IRT.NYSE', 'CLI.NYSE', 'RLGY.NYSE', 'RLJ.NYSE', 'M.NYSE', 'ABR.NYSE', 'KRO.NYSE', 'FSR.NYSE', 'IGT.NYSE', 'MUR.NYSE', 'HTGC.NYSE', 'AG.NYSE', 'UE.NYSE', 'MANU.NYSE', 'SA.NYSE', 'LTHM.NYSE', 'AMWL.NYSE', 'CCJ.NYSE', 'TAK.NYSE', 'HSC.NYSE', 'PDM.NYSE', 'SM.NYSE', 'VST.NYSE', 'DBI.NYSE', 'EQT.NYSE', 'CCU.NYSE', 'NS.NYSE', 'CLF.NYSE', 'TPC.NYSE', 'STNG.NYSE', 'VALE.NYSE', 'PTY.NYSE', 'SBSW.NYSE', 'GPK.NYSE', 'GNL.NYSE', 'SRG.NYSE', 'DX.NYSE', 'INFY.NYSE', 'GTN.NYSE', 'CVI.NYSE', 'AKR.NYSE', 'EQNR.NYSE', 'SBH.NYSE', 'TME.NYSE', 'TECK.NYSE', 'TGNA.NYSE', 'TROX.NYSE', 'BRX.NYSE', 'KW.NYSE', 'GOLD.NYSE', 'CAL.NYSE', 'FSK.NYSE', 'MTW.NYSE', 'CADE.NYSE', 'AZUL.NYSE', 'TPH.NYSE', 'RAD.NYSE', 'PSTG.NYSE', 'PK.NYSE', 'IMAX.NYSE', 'FLR.NYSE', 'OUT.NYSE', 'AU.NYSE', 'GLP.NYSE', 'ATI.NYSE', 'DK.NYSE', 'HRB.NYSE', 'WRE.NYSE', 'CNK.NYSE', 'ORI.NYSE', 'PLTR.NYSE', 'RDN.NYSE', 'EPRT.NYSE', 'EB.NYSE', 'BOX.NYSE', 'MTDR.NYSE', 'PEB.NYSE', 'FLO.NYSE', 'DAN.NYSE', 'BSAC.NYSE', 'STWD.NYSE', 'LEVI.NYSE', 'MD.NYSE', 'CNO.NYSE', 'DDD.NYSE', 'BE.NYSE', 'HOME.NYSE', 'TUP.NYSE', 'MX.NYSE', 'HP.NYSE', 'ELF.NYSE', 'AQUA.NYSE', 'OFC.NYSE', 'SKM.NYSE', 'FTAI.NYSE', 'HPP.NYSE', 'NOMD.NYSE', 'FCPT.NYSE', 'EQC.NYSE', 'CWEN.NYSE', 'HUN.NYSE', 'ZTO.NYSE', 'CC.NYSE', 'PBA.NYSE', 'GTY.NYSE', 'SPCE.NYSE', 'HMC.NYSE', 'HSBC.NYSE', 'AXTA.NYSE', 'VIPS.NYSE', 'AVTR.NYSE', 'JEF.NYSE', 'AEO.NYSE', 'HR.NYSE', 'CMC.NYSE', 'BXMT.NYSE', 'MDU.NYSE', 'TRGP.NYSE', 'AA.NYSE', 'TMHC.NYSE', 'LRN.NYSE', 'VSTO.NYSE', 'JBGS.NYSE', 'DEI.NYSE', 'AAT.NYSE', 'EGHT.NYSE', 'ASAN.NYSE', 'AMH.NYSE', 'MMI.NYSE', 'STAG.NYSE', 'MXL.NYSE', 'LPI.NYSE', 'CUZ.NYSE', 'UNFI.NYSE', 'JWN.NYSE', 'CPE.NYSE', 'ANF.NYSE', 'TPX.NYSE', 'JMIA.NYSE', 'KBR.NYSE', 'OMI.NYSE', 'MAXR.NYSE', 'HGV.NYSE', 'SAVE.NYSE', 'PLT.NYSE', 'NIO.NYSE', 'BTI.NYSE', 'USFD.NYSE', 'NVTA.NYSE', 'OHI.NYSE', 'NCR.NYSE', 'ARMK.NYSE', 'GVA.NYSE', 'EPC.NYSE', 'CUBE.NYSE', 'COLD.NYSE', 'TX.NYSE', 'OLN.NYSE', 'ATGE.NYSE', 'TDC.NYSE', 'YELP.NYSE', 'HOG.NYSE', 'NSA.NYSE', 'MAIN.NYSE', 'RMAX.NYSE', 'PD.NYSE', 'UGI.NYSE', 'KMT.NYSE', 'VVI.NYSE', 'JOE.NYSE', 'PRG.NYSE', 'HIW.NYSE', 'SKX.NYSE', 'LTC.NYSE', 'BDC.NYSE', 'ARCH.NYSE', 'HLF.NYSE', 'BAM.NYSE', 'NNN.NYSE', 'BJ.NYSE', 'LAZ.NYSE', 'FR.NYSE', 'DEN.NYSE', 'SIX.NYSE', 'AJRD.NYSE', 'ENR.NYSE', 'RVLV.NYSE', 'GDOT.NYSE', 'PAGS.NYSE', 'ESNT.NYSE', 'AMRC.NYSE', 'SPR.NYSE', 'KBH.NYSE', 'EPR.NYSE', 'NYT.NYSE', 'SAH.NYSE', 'KNX.NYSE', 'CPRI.NYSE', 'THC.NYSE', 'FTCH.NYSE', 'CIT.NYSE', 'ABM.NYSE', 'SCI.NYSE', 'NUS.NYSE', 'ARGO.NYSE', 'REXR.NYSE', 'THS.NYSE', 'JBL.NYSE', 'HASI.NYSE', 'BIP.NYSE', 'WWE.NYSE', 'CIEN.NYSE', 'FL.NYSE', 'HXL.NYSE', 'GEF.NYSE', 'PFGC.NYSE', 'FAF.NYSE', 'DCI.NYSE', 'UVV.NYSE', 'TOL.NYSE', 'AER.NYSE', 'LPX.NYSE', 'TRNO.NYSE', 'KSS.NYSE', 'MDC.NYSE', 'XEC.NYSE', 'NEWR.NYSE', 'BYD.NYSE', 'BERY.NYSE', 'GMED.NYSE', 'BUD.NYSE', 'SON.NYSE', 'BOOT.NYSE', 'ACM.NYSE', 'KRC.NYSE', 'BIG.NYSE', 'ADC.NYSE', 'EAT.NYSE', 'UHT.NYSE', 'ONTO.NYSE', 'NEP.NYSE', 'ENV.NYSE', 'CUB.NYSE', 'YETI.NYSE', 'ORA.NYSE', 'R.NYSE', 'SXT.NYSE', 'GKOS.NYSE', 'BCO.NYSE', 'PAG.NYSE', 'EHC.NYSE', 'DKS.NYSE', 'EBS.NYSE', 'CHWY.NYSE', 'WGO.NYSE', 'CPA.NYSE', 'PLNT.NYSE', 'GIB.NYSE', 'AYX.NYSE', 'NSP.NYSE', 'H.NYSE', 'AIN.NYSE', 'WCC.NYSE', 'NVS.NYSE', 'CHGG.NYSE', 'LSI.NYSE', 'SPB.NYSE', 'DIN.NYSE', 'ASH.NYSE', 'INGR.NYSE', 'AN.NYSE', 'LMND.NYSE', 'DELL.NYSE', 'CRI.NYSE', 'MTH.NYSE', 'ENS.NYSE', 'NBR.NYSE', 'ATHM.NYSE', 'MTZ.NYSE', 'BMI.NYSE', 'DDS.NYSE', 'BC.NYSE', 'U.NYSE', 'IDA.NYSE', 'USNA.NYSE', 'HHC.NYSE', 'QTWO.NYSE', 'ADS.NYSE', 'ARW.NYSE', 'HAE.NYSE', 'EME.NYSE', 'SHAK.NYSE', 'AFG.NYSE', 'IBP.NYSE', 'OSK.NYSE', 'SNX.NYSE', 'RL.NYSE', 'DASH.NYSE', 'RGA.NYSE', 'CNMD.NYSE', 'THG.NYSE', 'THO.NYSE', 'PII.NYSE', 'JBT.NYSE', 'FCN.NYSE', 'NVRO.NYSE', 'MUSA.NYSE', 'AGCO.NYSE', 'EGP.NYSE', 'AMG.NYSE', 'RS.NYSE', 'GPI.NYSE', 'RNR.NYSE', 'AYI.NYSE', 'VAC.NYSE', 'WSM.NYSE', 'JLL.NYSE', 'LEA.NYSE', 'MSGS.NYSE', 'HUBB.NYSE', 'IIPR.NYSE', 'INSP.NYSE', 'WEX.NYSE', 'MED.NYSE', 'FVRR.NYSE', 'VEEV.NYSE', 'WSO.NYSE', 'PEN.NYSE', 'ALX.NYSE', 'RNG.NYSE', 'BURL.NYSE', 'DECK.NYSE', 'CHE.NYSE', 'GHC.NYSE', 'SHOP.NYSE', 'MAN.NYSE', 'MAC.NYSE', 'TAL.NYSE', 'ONTX.NAS', 'SNDL.NAS', 'TNXP.NAS', 'TXMD.NAS', 'NOVN.NAS', 'ACRX.NAS', 'TTOO.NAS', 'GERN.NAS', 'XSPA.NAS', 'JFU.NAS', 'VEON.NAS', 'TRVN.NAS', 'GNUS.NAS', 'ATHX.NAS', 'CRBP.NAS', 'AGRX.NAS', 'MARK.NAS', 'TELL.NAS', 'NBEV.NAS', 'NERV.NAS', 'WTRH.NAS', 'VSTM.NAS', 'AGEN.NAS', 'VBIV.NAS', 'SPPI.NAS', 'ABUS.NAS', 'RIGL.NAS', 'IFRX.NAS', 'LLNW.NAS', 'OVID.NAS', 'CRNT.NAS', 'WATT.NAS', 'SELB.NAS', 'ATRS.NAS', 'GNPX.NAS', 'MNKD.NAS', 'ATNX.NAS', 'TRVG.NAS', 'VRAY.NAS', 'OPK.NAS', 'CPRX.NAS', 'CBAY.NAS', 'NYMT.NAS', 'ZYNE.NAS', 'NCMI.NAS', 'IZEA.NAS', 'VYGR.NAS', 'SOLO.NAS', 'ARAY.NAS', 'ADAP.NAS', 'BGCP.NAS', 'LXRX.NAS', 'VXRT.NAS', 'FRSX.NAS', 'PNNT.NAS', 'CERS.NAS', 'VKTX.NAS', 'AYRO.NAS', 'WIMI.NAS', 'LTRPA.NAS', 'XNET.NAS', 'KNDI.NAS', 'PRQR.NAS', 'VYNE.NAS', 'CNDT.NAS', 'MGI.NAS', 'ORTX.NAS', 'PTEN.NAS', 'AYTU.NAS', 'PGEN.NAS', 'PRTK.NAS', 'PLYA.NAS', 'SRNE.NAS', 'BNGO.NAS', 'OCGN.NAS', 'IMGN.NAS', 'NNDM.NAS', 'PSEC.NAS', 'HLIT.NAS', 'SURF.NAS', 'SFT.NAS', 'GEVO.NAS', 'INO.NAS', 'DTIL.NAS', 'INSG.NAS', 'GOSS.NAS', 'PAA.NAS', 'CASA.NAS', 'CODX.NAS', 'EGAN.NAS', 'FOLD.NAS', 'PBYI.NAS', 'PAGP.NAS', 'ADVM.NAS', 'SY.NAS', 'INFN.NAS', 'CRMD.NAS', 'DVAX.NAS', 'PRVB.NAS', 'GOGO.NAS', 'SDC.NAS', 'DOYU.NAS', 'GLAD.NAS', 'NMRK.NAS', 'LUNA.NAS', 'BCRX.NAS', 'QIWI.NAS', 'NDLS.NAS', 'OSUR.NAS', 'GLNG.NAS', 'VRA.NAS', 'UNIT.NAS', 'CAMP.NAS', 'CRIS.NAS', 'SGMO.NAS', 'QRTEA.NAS', 'SVC.NAS', 'GPRO.NAS', 'PFLT.NAS', 'ALDX.NAS', 'FOSL.NAS', 'CWCO.NAS', 'NESR.NAS', 'FCEL.NAS', 'NKLA.NAS', 'ERIC.NAS', 'WKHS.NAS', 'ALT.NAS', 'LILA.NAS', 'CLNE.NAS', 'EOLS.NAS', 'ATRA.NAS', 'ANGI.NAS', 'NAVI.NAS', 'CHRS.NAS', 'SSSS.NAS', 'MRNS.NAS', 'ZYXI.NAS', 'MITK.NAS', 'COMM.NAS', 'SSRM.NAS', 'MOMO.NAS', 'SABR.NAS', 'MVIS.NAS', 'AVXL.NAS', 'VIAV.NAS', 'ROIC.NAS', 'MDIV.NAS', 'OCUL.NAS', 'AGNC.NAS', 'XBIT.NAS', 'SPWH.NAS', 'IHRT.NAS', 'SWBI.NAS', 'DENN.NAS', 'AMRS.NAS', 'GT.NAS', 'CAN.NAS', 'SBRA.NAS', 'FLEX.NAS', 'SVMK.NAS', 'SLM.NAS', 'ARCC.NAS', 'AXGN.NAS', 'NKTR.NAS', 'SPTN.NAS', 'TTCF.NAS', 'MCRB.NAS', 'GOOD.NAS', 'MLCO.NAS', 'MAT.NAS', 'ACAD.NAS', 'JBLU.NAS', 'PCVX.NAS', 'CLDX.NAS', 'VREX.NAS', 'CLSK.NAS', 'WEN.NAS', 'AVID.NAS', 'CONN.NAS', 'NMIH.NAS', 'LI.NAS', 'ICPT.NAS', 'CYTK.NAS', 'SNDX.NAS', 'EXEL.NAS', 'ILPT.NAS', 'CDXS.NAS', 'ALVR.NAS', 'RUTH.NAS', 'QFIN.NAS', 'LBTYK.NAS', 'LBTYA.NAS', 'SFM.NAS', 'HA.NAS', 'RVNC.NAS', 'CARA.NAS', 'BLMN.NAS', 'FLWS.NAS', 'ANDE.NAS', 'HEAR.NAS', 'NTNX.NAS', 'KTOS.NAS', 'OPI.NAS', 'BBBY.NAS', 'GPRE.NAS', 'TSEM.NAS', 'VUZI.NAS', 'BLUE.NAS', 'SBGI.NAS', 'GIII.NAS', 'MMYT.NAS', 'ITCI.NAS', 'CHEF.NAS', 'PDCO.NAS', 'WW.NAS', 'PACB.NAS', 'QURE.NAS', 'PINC.NAS', 'SNSR.NAS', 'EGLE.NAS', 'EH.NAS', 'SSTI.NAS', 'PDCE.NAS', 'BLFS.NAS', 'STOK.NAS', 'GNTX.NAS', 'NIU.NAS', 'AY.NAS', 'EVER.NAS', 'GO.NAS', 'BZUN.NAS', 'URBN.NAS', 'TCOM.NAS', 'XP.NAS', 'PFF.NAS', 'VRM.NAS', 'RRGB.NAS', 'TIGO.NAS', 'ARCT.NAS', 'FWONA.NAS', 'SONO.NAS', 'IRDM.NAS', 'EDIT.NAS', 'SANM.NAS', 'ODP.NAS', 'BLNK.NAS', 'SLGN.NAS', 'HALO.NAS', 'CIBR.NAS', 'AVT.NAS', 'HAIN.NAS', 'NATI.NAS', 'PGNY.NAS', 'PLAY.NAS', 'IONS.NAS', 'CSIQ.NAS', 'UPWK.NAS', 'RVMD.NAS', 'BHF.NAS', 'VIR.NAS', 'FROG.NAS', 'BLDR.NAS', 'MARA.NAS', 'FIZZ.NAS', 'LSCC.NAS', 'WB.NAS', 'MRVL.NAS', 'ISTB.NAS', 'STLD.NAS', 'VTIP.NAS', 'SFIX.NAS', 'ABCB.NAS', 'VCYT.NAS', 'IUSB.NAS', 'INGN.NAS', 'TRIP.NAS', 'SKYW.NAS', 'TPIC.NAS', 'AXSM.NAS', 'UEIC.NAS', 'HTHT.NAS', 'PCH.NAS', 'LPSN.NAS', 'DOMO.NAS', 'BBIO.NAS', 'CEVA.NAS', 'CAKE.NAS', 'SEIC.NAS', 'REGI.NAS', 'YNDX.NAS', 'PRFT.NAS', 'OSTK.NAS', 'ARWR.NAS', 'STNE.NAS', 'SNEX.NAS', 'NUVA.NAS', 'RDFN.NAS', 'BRKR.NAS', 'HQY.NAS', 'SRCL.NAS', 'IUSV.NAS', 'IDCC.NAS', 'SMTC.NAS', 'PLCE.NAS', 'EHTH.NAS', 'IXUS.NAS', 'SRPT.NAS', 'MRCY.NAS', 'CAR.NAS', 'IIVI.NAS', 'SDGR.NAS', 'NTLA.NAS', 'SYNH.NAS', 'RPD.NAS', 'FATE.NAS', 'SAGE.NAS', 'MCHI.NAS', 'POWI.NAS', 'CROX.NAS', 'SHY.NAS', 'ALRM.NAS', 'CRUS.NAS', 'OLLI.NAS', 'ACMR.NAS', 'TNDM.NAS', 'LITE.NAS', 'CVAC.NAS', 'PZZA.NAS', 'AAXJ.NAS', 'ITRI.NAS', 'IUSG.NAS', 'BPMC.NAS', 'RETA.NAS', 'LAMR.NAS', 'ACWI.NAS', 'TXRH.NAS', 'SKYY.NAS', 'NTES.NAS', 'AMBA.NAS', 'BILI.NAS', 'CDLX.NAS', 'EMB.NAS', 'SHV.NAS', 'NARI.NAS', 'JACK.NAS', 'RYAAY.NAS', 'IEF.NAS', 'BNTX.NAS', 'AVAV.NAS', 'CHKP.NAS', 'DVY.NAS', 'IRBT.NAS', 'CRSP.NAS', 'LECO.NAS', 'VC.NAS', 'EVBG.NAS', 'QDEL.NAS', 'SWAV.NAS', 'NVCR.NAS', 'IRTC.NAS', 'CYBR.NAS', 'SYNA.NAS', 'PDD.NAS', 'APPF.NAS', 'EEFT.NAS', 'NXST.NAS', 'SLAB.NAS', 'JOUT.NAS', 'IBB.NAS', 'FRPT.NAS', 'JAZZ.NAS', 'CBRL.NAS', 'UTHR.NAS', 'MKSI.NAS', 'NXPI.NAS', 'IDEX.NAS', 'CASY.NAS', 'TEAM.NAS', 'BIDU.NAS', 'TREE.NAS', 'CHDN.NAS', 'NICE.NAS', 'SMH.NAS', 'VONG.NAS', 'SEDG.NAS', 'WIX.NAS', 'LULU.NAS', 'CACC.NAS', 'SOXX.NAS', 'MSTR.NAS', 'MELI.NAS', 'ADAUSD', 'HOOD.NAS', 'XTZUSD', 'DOGUSD', 'UNIUSD', 'BNBUSD', 'DE40', 'MidDE50', 'DOTUSD', 'LNKUSD', 'PANW.NAS', 'MVRS.NAS', 'VRE.NYSE', 'MXL.NAS', 'DBRG.NYSE', 'DBRG.NYSE.a', 'POLY.NYSE', 'POLY.NYSE.a', 'MNTV.NAS', 'MNTV.NAS.a', 'XAUJPY', 'XAUCHF', 'XAUGBP', 'XAGAUD', 'PARA.NAS', 'ADTH.NAS', 'ADAG.NAS', 'ADGI.NAS', 'ADMP.NAS', 'ADX.NYSE', 'AHCO.NAS', 'ADPT.NAS', 'ADUS.NAS', 'ADNT.NYSE', 'ASIX.NYSE', 'WMS.NYSE', 'ADES.NAS', 'ADV.NAS', 'AVK.NYSE', 'ADN.NAS', 'AGLE.NAS', 'AEG.NYSE', 'AEHR.NAS', 'AMTX.NAS', 'AENZ.NYSE', 'AFMD.NAS', 'AFYA.NAS', 'AEM.NYSE', 'BIRD.NAS', 'AMR.NYSE', 'ATEC.NAS', 'ALPN.NAS', 'PINE.NYSE', 'ALTG.NYSE', 'ASTE.NAS', 'AZN.NAS', 'ACLS.NAS', 'AXS.NYSE', 'AXON.NAS', 'APRN.NYSE', 'BBW.NYSE', 'CNHI.NYSE', 'CHI.NAS', 'CWT.NYSE', 'CBAN.NAS', 'STK.NYSE', 'CBU.NYSE', 'CFRX.NAS', 'CAPL.NYSE', 'CW.NYSE', 'CTKB.NAS', 'FHN.NYSE', 'GME.NYSE', 'GMTX.NAS', 'GNK.NYSE', 'GABC.NAS', 'GSK.NYSE', 'GRAB.NAS', 'GRIN.NAS', 'GRPN.NAS', 'GRWG.NAS', 'KEN.NYSE', 'LXU.NYSE', 'LU.NYSE', 'MNDY.NAS', 'PBT.NYSE', 'RENN.NYSE', 'RIVN.NAS', 'RBLX.NYSE', 'RKLB.NAS', 'RCKT.NAS', 'ROVR.NAS', 'RY.NYSE', 'SB.NYSE', 'SGA.NAS', 'SPNS.NAS', 'SAR.NYSE', 'SILK.NAS', 'SBOW.NYSE', 'SBTX.NAS', 'SOFI.NAS', 'STKL.NAS', 'GLG.NAS', 'TFSL.NAS', 'TSBK.NAS', 'TKR.NYSE', 'TMST.NYSE', 'UPST.NAS', 'URGN.NAS', 'USIO.NAS', 'VECO.NAS', 'VET.NYSE', 'VSCO.NYSE', 'VNOM.NAS', 'WERN.NAS', 'SOLUSD', 'AVXUSD', 'KSMUSD', 'LUNUSD', 'GLMUSD', 'MTCUSD', 'ABEO.NAS', 'FAX.NYSE', 'AWP.NYSE', 'ACP.NYSE', 'AOD.NYSE', 'RERE.NYSE', 'AIKI.NAS', 'ALRN.NAS', 'AL.NYSE', 'ATSG.NAS', 'AIRS.NAS', 'AIRG.NAS', 'ANTE.NAS', 'MIMO.NYSE', 'AKTX.NAS', 'KERN.NAS', 'AKRO.NAS', 'AKTS.NAS', 'AKYA.NAS', 'AHG.NAS', 'ALG.NYSE', 'AGI.NYSE', 'ACI.NYSE', 'ALC.NYSE', 'ALEC.NAS', 'ALRS.NAS', 'ALEX.NYSE', 'DOX.NAS', 'AVD.NYSE', 'AX.NYSE', 'BGRY.NAS', 'BHLB.NYSE', 'BZFD.NAS', 'LAW.NYSE', 'CALX.NYSE', 'CWST.NAS', 'CASS.NAS', 'SAVA.NAS', 'CSTL.NAS', 'CTRM.NAS', 'CATY.NAS', 'CATO.NYSE', 'CVCO.NAS', 'CZOO.NYSE', 'CECE.NAS', 'FUN.NYSE', 'CELC.NAS', 'CLS.NYSE', 'CLBT.NAS', 'CLRB.NAS', 'CLSN.NAS', 'CELH.NAS', 'CELU.NAS', 'CPAC.NYSE', 'CENN.NAS', 'CVE.NYSE', 'CSR.NYSE', 'COIN.NAS', 'COUR.NYSE', 'CRSR.NAS', 'CS.NYSE', 'DAVE.NAS', 'DAWN.NAS', 'EKSO.NAS', 'EEX.NYSE', 'GAME.NAS', 'GMBL.NAS', 'EVO.NAS', 'EXAI.NAS', 'XGN.NAS', 'XCUR.NAS', 'EXLS.NAS', 'EXFY.NAS', 'EXPO.NAS', 'EXPR.NYSE', 'XPRO.NYSE', 'RACE.NYSE', 'GMS.NYSE', 'GSIT.NAS', 'LAND.NAS', 'GES.NYSE', 'ICFI.NAS', 'IHS.NYSE', 'IGMS.NAS', 'LGFa.NYSE', 'LTRY.NAS', 'MCFE.NAS', 'SHEL.NYSE', 'SHEN.NAS', 'FOUR.NYSE', 'SHG.NYSE', 'SHLS.NAS', 'SCVL.NAS', 'SHBI.NAS', 'SSTK.NYSE', 'SHYF.NAS', 'SITM.NAS', 'BSRR.NAS', 'SIER.NAS', 'SWIR.NAS', 'SIFY.NAS', 'SGHT.NAS', 'SGTX.NAS', 'SSU.NYSE', 'SIG.NYSE', 'SILC.NAS', 'SIMO.NAS', 'SAMG.NAS', 'SI.NYSE', 'SMWB.NYSE', 'SFNC.NAS', 'STGW.NAS', 'SLI.NYSE', 'SMP.NYSE', 'SXI.NYSE', 'STN.NYSE', 'SBLK.NAS', 'SGU.NYSE', 'STFC.NAS', 'GASS.NAS', 'STLA.NYSE', 'STEM.NYSE', 'STEP.NAS', 'SCL.NYSE', 'STXS.NYSE', 'SBT.NAS', 'STER.NAS', 'STRL.NAS', 'STVN.NYSE', 'THR.NYSE', 'TRI.NYSE', 'TWKS.NAS', 'TDUP.NAS', 'THRY.NAS', 'TDW.NYSE', 'TINV.NYSE', 'TLYS.NYSE', 'UL.NYSE', 'VINC.NAS', 'VINP.NAS', 'BBIG.NAS', 'VIOT.NAS', 'EBET.NAS', 'ARKK.NYSE', 'ARKF.NYSE', 'IAU.NYSE', 'XLV.NYSE', 'XLK.NYSE', 'XLY.NYSE', 'BFH.NYSE', 'EMWP.NYSE', 'Wheat_N3', 'Corn_N3', 'Sugar_N3', 'DXY_M3', 'EURBBL_M3', 'EURBND_M3', 'EURSCA_M3', 'UST05Y_M3', 'UST05Y_U3', 'UST10Y_M3', 'UST10Y_U3', 'UST30Y_M3', 'UST30Y_U3', 'UKGB_M3', 'UKGB_U3', 'JGB10Y_M3', 'ITB10Y_M3', 'VIX_K3', 'VIX_M3', 'WTI_M3', 'WTI_N3', 'Sbean_N3', 'OJ_H3', 'OJ_N3', 'BRENT_M3', 'BRENT_N3', 'BRENT_Q3', 'Cocoa_N3', 'Coffee_N3', 'Cotton_N3', 'GRMN.NYSE', 'AAVEUSD', 'P911.ETR', 'XWEL.NAS', 'TXG.NAS', 'WT.NYSE', 'CECO.NAS', 'EGHT.NAS', 'ASAP.NAS', 'IDS.LSE', 'BN.NYSE', 'EVRG.NAS', 'IRON.NAS', 'EGLE.NYSE', 'VTLE.NYSE', 'INDY.NAS', 'YINN.NYSE', 'EWT.NYSE', 'EWC.NYSE', 'EPHE.NYSE', 'EWY.NYSE', 'IN50', 'URW.PAR']\n"
     ]
    }
   ],
   "source": [
    "# establish connection to the MetaTrader 5 terminal\n",
    "if not mt5.initialize():\n",
    "    new_log(f\"initialize() failed, error code = {mt5.last_error()}\")\n",
    "\n",
    "\n",
    "authorized = mt5.login(login,password,server)\n",
    "\n",
    "if authorized:\n",
    "    # display trading account data 'as is'\n",
    "    new_log(mt5.account_info())\n",
    "else:\n",
    "    new_log(f\"failed to connect at account #{login}, error code: {mt5.last_error()}\")\n",
    "\n",
    "all_symbols = mt5.symbols_get()\n",
    "all_symbols = [s.name for s in all_symbols]\n",
    "\n",
    "print(all_symbols)\n",
    "\n",
    "shutdown = mt5.shutdown()"
   ]
  },
  {
   "cell_type": "code",
   "execution_count": 31,
   "metadata": {},
   "outputs": [
    {
     "data": {
      "text/plain": [
       "['USDCHF']"
      ]
     },
     "execution_count": 31,
     "metadata": {},
     "output_type": "execute_result"
    }
   ],
   "source": [
    "[s for s in all_symbols if s.startswith(currency) and s.endswith('CHF')]"
   ]
  }
 ],
 "metadata": {
  "kernelspec": {
   "display_name": "Python 3",
   "language": "python",
   "name": "python3"
  },
  "language_info": {
   "codemirror_mode": {
    "name": "ipython",
    "version": 3
   },
   "file_extension": ".py",
   "mimetype": "text/x-python",
   "name": "python",
   "nbconvert_exporter": "python",
   "pygments_lexer": "ipython3",
   "version": "3.10.11"
  },
  "orig_nbformat": 4
 },
 "nbformat": 4,
 "nbformat_minor": 2
}
